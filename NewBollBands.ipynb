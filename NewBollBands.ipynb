{
 "cells": [
  {
   "cell_type": "code",
   "execution_count": 1,
   "metadata": {},
   "outputs": [],
   "source": [
    "import numpy as np \n",
    "import pandas as pd \n",
    "import datetime as datetime\n",
    "import matplotlib.pyplot as plt\n",
    "import plotly.graph_objects as go\n",
    "from IPython.display import clear_output,display\n",
    "from datetime import *\n",
    "from time import *\n",
    "from ib_async import *\n"
   ]
  },
  {
   "cell_type": "code",
   "execution_count": 4,
   "metadata": {},
   "outputs": [
    {
     "data": {
      "text/plain": [
       "<IB connected to 127.0.0.1:7497 clientId=0>"
      ]
     },
     "execution_count": 4,
     "metadata": {},
     "output_type": "execute_result"
    }
   ],
   "source": [
    "from ib_async import *\n",
    "util.startLoop()\n",
    "ib = IB()\n",
    "ib.connect(port =  7497, clientId = 0)"
   ]
  },
  {
   "cell_type": "code",
   "execution_count": 12,
   "metadata": {},
   "outputs": [
    {
     "data": {
      "text/plain": [
       "Stock(conId=4815747, symbol='NVDA', exchange='SMART', primaryExchange='NASDAQ', currency='USD', localSymbol='NVDA', tradingClass='NMS')"
      ]
     },
     "execution_count": 12,
     "metadata": {},
     "output_type": "execute_result"
    }
   ],
   "source": [
    "contract = Stock(symbol = 'NVDA', exchange = 'SMART', currency = 'USD')\n",
    "ib.qualifyContracts(contract)\n",
    "contract"
   ]
  },
  {
   "cell_type": "code",
   "execution_count": null,
   "metadata": {},
   "outputs": [],
   "source": [
    "details = ib.reqContractDetails(contract)\n",
    "print(details)\n",
    "details[0].tradingHours"
   ]
  },
  {
   "cell_type": "code",
   "execution_count": 5,
   "metadata": {},
   "outputs": [],
   "source": [
    "bars = ib.reqHistoricalData(contract = contract, endDateTime='', durationStr= '1 D', barSizeSetting='30 secs', whatToShow='TRADES', useRTH=False, keepUpToDate=True)"
   ]
  },
  {
   "cell_type": "code",
   "execution_count": null,
   "metadata": {},
   "outputs": [],
   "source": [
    "bars"
   ]
  },
  {
   "cell_type": "code",
   "execution_count": null,
   "metadata": {},
   "outputs": [],
   "source": [
    "util.df(bars)"
   ]
  },
  {
   "cell_type": "code",
   "execution_count": null,
   "metadata": {},
   "outputs": [],
   "source": [
    "#util.df(bars).assign(ADD_NEW_COLUMN = 'Whatever you wanT')"
   ]
  },
  {
   "cell_type": "code",
   "execution_count": null,
   "metadata": {},
   "outputs": [],
   "source": [
    "from IPython.display import clear_output,display\n",
    "from datetime import *\n",
    "def onBarUpdate(bars, hasNewBars):\n",
    "    # clear_output()\n",
    "    display(util.df(bars).tail(2).assign(New_bar = hasNewBars, Update_Time = datetime.now()))\n",
    "\n",
    "# Every time there is a change in the bars the function is ran\n",
    "\n",
    "bars.updateEvent.clear()\n",
    "# or bars.updateEvent -= onBarUpdate unsubscribes the callback\n",
    "bars.updateEvent += onBarUpdate\n",
    "ib.sleep(60)\n",
    "bars.updateEvent.clear()\n"
   ]
  },
  {
   "cell_type": "markdown",
   "metadata": {},
   "source": [
    "Say we want the output to only have full bars"
   ]
  },
  {
   "cell_type": "code",
   "execution_count": null,
   "metadata": {},
   "outputs": [],
   "source": [
    "def onBarUpdateFull(bars, hasNewBars):\n",
    "    if hasNewBars:\n",
    "        display(util.df(bars).iloc[-2:].assign(Update_time = datetime.now()))\n",
    "\n",
    "bars.updateEvent.clear()\n",
    "bars.updateEvent += onBarUpdateFull\n",
    "ib.sleep(120)\n",
    "bars.updateEvent.clear()"
   ]
  },
  {
   "cell_type": "markdown",
   "metadata": {},
   "source": [
    "# Bollinger Bands"
   ]
  },
  {
   "cell_type": "markdown",
   "metadata": {},
   "source": [
    "Text taken and typed out from 'The New Trading for a Living' (Elder, 2014) with intention of learning and improving touch typing.\n",
    "\n",
    "## Channel Trading systems\n",
    "\n",
    "Market prices tend to flow in channels, like a river in their valleys. When a river touches the right edge of its valley, it turns left. When it touches the left rim of its valley it turns right.\n",
    "\n",
    "When prices rally, they often seem to stop at an invisible ceiling. Their declines seem to stop at invisible floors. Channels help us anticipate where their support and resistance levels are likely to be encountered. Support is where buyers buy with greater intensity than sellers sell. Resistance is where sellers sell with greater intesnity than buyers buy. Channels show where to expect support and resistance in the future. Channels help identify buying and selling opportunities and avoid bad trades. The late great mathematician Benoit Mandelbrot was hired by the Egyptian government to create a mathematical model of cotton prices - the main agricultural export of that country. After extensive study, the scientist made the finding, 'prices oscillate above and below a value' It may sound simple, but it is in fact profound. If we accept this mathematical finding and if we have the means to define value and measure an average oscillation, we'll have a trading system. We'll need to buy below value and take profits at value or sell short above value and cover at value. We have already agreed that value is in the zone between a short and a long moving average. We can use channels to find normal and abnormal oscillations. \n",
    "\n",
    "We construct a channel by plotting two lines parralel to a moving average, one above and another below. We may also vary the distance between the channel lines depending on that market's volatility (standard deviation channels). A symmetrical channel, centered around a moving average, is useful for trading stocks. A standard deviation channel (sometimes called Bollinger bands) is used also.\n",
    "\n",
    "Channels mark the boundaries between normal and abnormal price action. It is normal for prices to stay inside a well-drawn channel, and only unusual events push them outside. The market is undervalued below its lower channel line and overvalued above its upper channel line. \n",
    "\n",
    "__Market Psychology__\n",
    "\n",
    "An exponential moving average reflects the average consensus of value in its time window. When prices are near their moving average, the market is fairly valued. When they decline near the lower channel line, the market is undervalued. When prices rise to the upper channel line, the market is overvalued. Channels help find buying opportunities when the market is cheap and shorting opportunities when the market is dear. When prices fall below their moving average, bargain hunters step in. Their buying, as well as short covering by bears stops declines and lifts prices. When prices rise above value, sellers see an opportunity to take profits on long positions or go short, their selling caps the rise. When the market sinks to the bottom of a depression, its mood is about to improve. Once it rises to the height of its mania, it's about to start calming down. A channel marks normal limits of mass optimism and pessimism. The upper channel line shows where bulls run out of steam, while the lower channel line shows where bears become exhausted. \n",
    "\n",
    "If a rally shoots out of a channel and prices close above it, it shows that the uptrend is exceptionally strong. When a rall fails to reach the upper channel line, it is a bearish sign, as it shows that bulls are becoming weaker. The reverse applies to downtrends, whereby the downtrend is strong and failure of channel breakout is a bullish sign. \n",
    "\n",
    "\n",
    "__Standard Deviation Channels (Bollinger Bands)__\n",
    "\n",
    "The unique feature of these channels is that their width changes in response to market volatility. Their trading rules differ from those of regular channels:\n",
    "\n",
    "1) Calculate a 21-day EMA (in this case period)\n",
    "2) Subtract the 21-day Ema from each closing price to obtain all the deviations from the average\n",
    "3) Square each of the deviations and sum to find the total squared deviations\n",
    "4) Divide the total squared deviation by the EMA length to obtain the average squared deviation. \n",
    "5) Take the square root of the average squared deviation to obtain the standard deviation\n",
    "\n",
    "A band becomes wider when the volatility increases but it narrows down when the volatility decreases. A narrow band identifies a quiet market. Bollinger bands help to identify transitions from quiet to active markets. "
   ]
  },
  {
   "cell_type": "code",
   "execution_count": null,
   "metadata": {},
   "outputs": [],
   "source": [
    "# recall \n",
    "# bars = ib.reqHistoricalData(contract = contract, endDateTime='', durationStr= '1 D', barSizeSetting='30 secs', whatToShow='TRADES', useRTH=False, keepUpToDate=True)"
   ]
  },
  {
   "cell_type": "code",
   "execution_count": null,
   "metadata": {},
   "outputs": [],
   "source": [
    "# Constructing the Bollinger Bands\n",
    "\n",
    "period = 21\n",
    "df = util.df(bars)\n",
    "df['EMA_21'] = df.close.ewm(span = period, adjust = False).mean()\n",
    "df['SD'] = df.close.rolling(window=period).std()\n",
    "df['Upper Band'] = df['EMA_21'] + (df['SD'] * 2)\n",
    "df['Lower Band'] = df['EMA_21'] - (df['SD'] * 2)\n",
    "df.dropna()\n",
    "\n",
    "# def onBarUpdate(bars, hasNewBars):\n",
    "#     clear_output()\n",
    "#     display(df.tail(2).assign(New_bar = hasNewBars, Update_Time = datetime.now()))\n",
    "\n",
    "# bars.updateEvent.clear()\n",
    "# bars.updateEvent += onBarUpdate\n",
    "# ib.sleep(60)\n",
    "# bars.updateEvent.clear()\n"
   ]
  },
  {
   "cell_type": "code",
   "execution_count": 8,
   "metadata": {},
   "outputs": [],
   "source": [
    "def plotgraph(data):\n",
    "        fig = go.FigureWidget()\n",
    "        fig.add_trace(go.Scatter(\n",
    "            x = data.date,\n",
    "            y = data['close'],\n",
    "            mode = 'lines',\n",
    "            name = 'Close Price'\n",
    "        ))\n",
    "        fig.add_trace(go.Scatter(\n",
    "            x = data.date,\n",
    "            y = data['EMA_21'],\n",
    "            mode = 'lines',\n",
    "            name = '21 Period EMA',\n",
    "            line = dict(color='blue')\n",
    "        ))\n",
    "        fig.add_trace(go.Scatter(\n",
    "            x = data.date,\n",
    "            y = data['Upper Band'],\n",
    "            mode = 'lines',\n",
    "            name = 'Upper Band',\n",
    "            line = dict(color='red')\n",
    "        ))\n",
    "        fig.add_trace(go.Scatter(\n",
    "            x = data.date,\n",
    "            y = data['Lower Band'],\n",
    "            mode = 'lines',\n",
    "            name = 'Lower Band',\n",
    "            line = dict(color='red')\n",
    "        ))\n",
    "        fig.add_trace(go.Scatter(\n",
    "            x = data.date.tolist() + data.date.tolist()[::-1],\n",
    "            y = data['Upper Band'].tolist() + data['Lower Band'].tolist()[::-1],\n",
    "            fill ='toself',\n",
    "            fillcolor = 'rgba(255,0,0,0.1)',\n",
    "            line = dict(color='rgba(255,255,255,0)'),\n",
    "            showlegend=False\n",
    "        ))\n",
    "        fig.update_layout(\n",
    "            title = 'Bollinger Bands',\n",
    "            xaxis_title = 'Index',\n",
    "            yaxis_title = 'Price',\n",
    "            legend_title = 'Legend',\n",
    "            template = 'plotly_dark'\n",
    "        )\n",
    "        return fig"
   ]
  },
  {
   "cell_type": "markdown",
   "metadata": {},
   "source": [
    "# CAUTION: Running this code will actually purchase make sure connection is to a paper trading account"
   ]
  },
  {
   "cell_type": "code",
   "execution_count": null,
   "metadata": {},
   "outputs": [],
   "source": [
    "qty = 1\n",
    "position = 0\n",
    "period = 21\n",
    "def onBarUpdate(bars, hasNewBar):\n",
    "    global position\n",
    "    df = util.df(bars)\n",
    "    df['EMA_21'] = df.close.ewm(span = period, adjust = False).mean()\n",
    "    df['SD'] = df.close.rolling(window=period).std()\n",
    "    df['Upper Band'] = df['EMA_21'] + (df['SD'] * 1)\n",
    "    df['Lower Band'] = df['EMA_21'] - (df['SD'] * 1)\n",
    "    \n",
    "    # BUY SIGNAL: Buy when close <= Lower Band + No position\n",
    "    BUY_SIGNAL = (df['close'] <= df['Lower Band']).iloc[-1]*(position==0)\n",
    "    # SHORT SIGNAL: Short when close >= Upper Band + No Position\n",
    "    SHORT_SIGNAL = (df['close'] >= df['Upper Band']).iloc[-1]*(position==0)\n",
    "    # CLOSE LONG: We have position>0 and close >= SMA\n",
    "    CLOSE_LONG = (df['close'] >= df['EMA_21']).iloc[-1]*(position>0)\n",
    "    # COVER SHORT: We have position < 0 and close <= SMA\n",
    "    CLOSE_SHORT = (df['close'] <= df['EMA_21']).iloc[-1]*(position<0)\n",
    "\n",
    "    if BUY_SIGNAL:\n",
    "        print(\"BUY\")\n",
    "        trade = ib.placeOrder(contract=contract, order = MarketOrder(action = \"BUY\", totalQuantity=qty))\n",
    "        position = qty\n",
    "    elif SHORT_SIGNAL:\n",
    "        print(\"SHORT\")\n",
    "        trade = ib.placeOrder(contract = contract, order = MarketOrder(action = \"SELL\", totalQuantity=qty))\n",
    "        position = -qty\n",
    "    elif CLOSE_LONG:\n",
    "        print(\"Close Long\")\n",
    "        trade = ib.placeOrder(contract=contract, order = MarketOrder(action=\"SELL\", totalQuantity=position))\n",
    "    elif CLOSE_SHORT:\n",
    "        print(\"Close Short\")\n",
    "        trade = ib.placeOrder(contract=contract, order = MarketOrder(action=\"BUY\", totalQuantity=abs(position)))\n",
    "    elif abs(position) > 0:\n",
    "        print(\"Has position, hold\")\n",
    "    else:\n",
    "        print(\"No position do nothing\")\n",
    "            \n",
    "    clear_output(wait=True)\n",
    "    display(df.tail(2))\n",
    "    plotgraph(df)\n",
    "\n",
    "        \n",
    "bars.updateEvent+=onBarUpdate\n",
    "ib.sleep(240)\n",
    "bars.updateEvent.clear()\n"
   ]
  },
  {
   "cell_type": "code",
   "execution_count": 10,
   "metadata": {},
   "outputs": [],
   "source": [
    "bars.updateEvent.clear()"
   ]
  },
  {
   "cell_type": "code",
   "execution_count": null,
   "metadata": {},
   "outputs": [],
   "source": [
    "ib.disconnect()"
   ]
  },
  {
   "cell_type": "markdown",
   "metadata": {},
   "source": [
    "Now that the basic code and logic has been coded, how can this be done in an object orientated manner."
   ]
  },
  {
   "cell_type": "code",
   "execution_count": 2,
   "metadata": {},
   "outputs": [],
   "source": [
    "class BollingerBands:\n",
    "    ''' A live trading algorithm for a Bollinger Band Strategy using Interactive Brokers API.'''\n",
    "    def __init__(self, symbol, qty, channel_width=2):\n",
    "        self.symbol = symbol\n",
    "        self.qty = qty\n",
    "        self.channel_width = channel_width\n",
    "        self.ib = None\n",
    "        self.bars = None\n",
    "        self.contract = None\n",
    "        self.position = 0\n",
    "\n",
    "        #Track Returns\n",
    "        self.trades = []\n",
    "        self.cumulative_return = 1.0\n",
    "        self.cumulative_returns_history = [] \n",
    "        self.timestamps = []\n",
    "\n",
    "        # Automatically start the trading process\n",
    "        self.establish_connection()\n",
    "        self.get_data()\n",
    "        self.bars.updateEvent.clear()\n",
    "        self.technical_indicators()\n",
    "        self.fig = self.plotgraph(self.df)\n",
    "        display(self.fig)\n",
    "        self.start_trading()\n",
    "        \n",
    "    def establish_connection(self):\n",
    "        '''Establish a connection to the Interactive Brokers API'''\n",
    "        util.startLoop()\n",
    "        self.ib = IB()\n",
    "        try:\n",
    "            self.ib.connect(port =  7497, clientId = 0)\n",
    "            print(f\"Connected to IB API\")\n",
    "        except Exception as e:\n",
    "            print(f\"Error connecting to IB: {e}\")\n",
    "\n",
    "    def get_data(self):\n",
    "        '''Retrieve historical market data for the specified symbol.'''\n",
    "        stock = Stock(symbol = self.symbol, exchange = 'SMART', currency = 'USD')\n",
    "        qualified_contract = self.ib.qualifyContracts(stock) # self.contract\n",
    "        self.contract = qualified_contract[0]\n",
    "        self.bars = self.ib.reqHistoricalData(contract = self.contract, endDateTime='', durationStr='1 D', barSizeSetting='15 secs', whatToShow='TRADES', useRTH=True, keepUpToDate=True)\n",
    "        self.df = util.df(self.bars)\n",
    "        print(\"Data retrieved successfully.\")\n",
    "\n",
    "    def technical_indicators(self):\n",
    "        '''Generate Bollinger Bands and other technical indicators for construction.'''\n",
    "        self.df['EMA_21'] = self.df.close.ewm(span = 21, adjust = False).mean()\n",
    "        self.df['SD'] = self.df.close.rolling(window = 21).std()\n",
    "        self.df['Upper Band'] = self.df['EMA_21'] + (self.df['SD'] * self.channel_width)\n",
    "        self.df['Lower Band'] = self.df['EMA_21'] - (self.df['SD'] * self.channel_width)\n",
    "        self.df = self.df.dropna()\n",
    "        print(f\"Technical indicators calculated.\")\n",
    "\n",
    "    def generate_signals(self):\n",
    "        '''Generate buy/sell signals based on Bollinger Bands.'''\n",
    "        # BUY SIGNAL: Buy when close <= Lower Band + No position\n",
    "        BUY_SIGNAL = (self.df['close'] <= self.df['Lower Band']).iloc[-1]*(self.position==0)\n",
    "        # SHORT SIGNAL: Short when close >= Upper Band + No Position\n",
    "        SHORT_SIGNAL = (self.df['close'] >= self.df['Upper Band']).iloc[-1]*(self.position==0)\n",
    "        # CLOSE LONG: We have position>0 and close >= SMA\n",
    "        CLOSE_LONG = (self.df['close'] >= self.df['EMA_21']).iloc[-1]*(self.position>0)\n",
    "        # COVER SHORT: We have position < 0 and close <= SMA\n",
    "        CLOSE_SHORT = (self.df['close'] <= self.df['EMA_21']).iloc[-1]*(self.position<0)\n",
    "\n",
    "        return BUY_SIGNAL, SHORT_SIGNAL, CLOSE_LONG, CLOSE_SHORT\n",
    "    \n",
    "    def execute_trades(self):\n",
    "        ''' Execute trades based on generated signals.'''\n",
    "        BUY_SIGNAL, SHORT_SIGNAL, CLOSE_LONG, CLOSE_SHORT = self.generate_signals()\n",
    "        current_time = self.df['date'].iloc[-1] \n",
    "\n",
    "        if BUY_SIGNAL:\n",
    "            trade = self.ib.placeOrder(contract=self.contract, order = MarketOrder(action = \"BUY\", totalQuantity= self.qty))\n",
    "            entry_price = trade.orderStatus.avgFillPrice\n",
    "            self.trades.append({'type': 'buy', 'price': entry_price, 'qty': self.qty, 'timestamp': current_time})\n",
    "            print('=' * 55)\n",
    "            print(f\"Buying {self.qty} unit of {self.contract.symbol} at {entry_price}\")\n",
    "            print('=' * 55)\n",
    "            self.position = self.qty\n",
    "\n",
    "        elif SHORT_SIGNAL:\n",
    "            trade = self.ib.placeOrder(contract = self.contract, order = MarketOrder(action = \"SELL\", totalQuantity=self.qty))\n",
    "            entry_price = trade.orderStatus.avgFillPrice\n",
    "            self.trades.append({'type': 'short', 'price': entry_price, 'qty': -self.qty, 'timestamp': current_time})\n",
    "            print('=' * 55)\n",
    "            print(f\"Shorting {self.qty} unit of {self.contract.symbol} at {entry_price}\")\n",
    "            print('=' * 55)\n",
    "            self.position = -self.qty\n",
    "\n",
    "        elif CLOSE_LONG:\n",
    "            trade = self.ib.placeOrder(contract= self.contract, order = MarketOrder(action=\"SELL\", totalQuantity=self.position))\n",
    "            exit_price = trade.orderStatus.avgFillPrice\n",
    "            entry_price = self.trades[-1]['price']\n",
    "            percentage_return = ((exit_price - entry_price) / entry_price) * 100\n",
    "            self.cumulative_return *= (1 + percentage_return / 100)\n",
    "            profit = (exit_price - self.trades[-1]['price']) * self.position\n",
    "            self.trades.append({'type': 'sell', 'price': exit_price, 'profit': profit, 'percentage_return': percentage_return, 'timestamp': current_time})\n",
    "            self.cumulative_returns_history.append(self.cumulative_return)\n",
    "            self.timestamps.append(current_time)\n",
    "            self.position = 0\n",
    "            print('=' * 55)\n",
    "            print(f\"Closing long position for {self.qty} unit of {self.contract.symbol} at an averge fill price of: {exit_price}, Profit : {profit}\")\n",
    "            print('=' * 55)\n",
    "            self.position = 0\n",
    "\n",
    "        elif CLOSE_SHORT:\n",
    "            trade = self.ib.placeOrder(contract=self.contract, order = MarketOrder(action=\"BUY\", totalQuantity=abs(self.position)))\n",
    "            exit_price = trade.orderStatus.avgFillPrice\n",
    "            entry_price = self.trades[-1]['price']\n",
    "            percentage_return = ((entry_price - exit_price) / entry_price) * 100\n",
    "            self.cumulative_return *= (1 + percentage_return / 100)\n",
    "            profit = (self.trades[-1]['price'] - exit_price) * abs(self.position)\n",
    "            self.cumulative_profit += profit\n",
    "            self.trades.append({'type': 'cover', 'price': exit_price, 'profit': profit, 'percentage_return': percentage_return, 'timestamp': current_time})\n",
    "            self.cumulative_returns_history.append(self.cumulative_return) \n",
    "            self.timestamps.append(current_time) \n",
    "            self.position = 0\n",
    "            print('=' * 55)\n",
    "            print(f\"Covering short position for {self.qty} unit of {self.contract.symbol} at an average fill price of {trade.orderStatus.avgFillPrice}, Profit: {profit}\")\n",
    "            print('=' * 55)\n",
    "            self.position = 0\n",
    "        \n",
    "        elif abs(self.position) > 0:\n",
    "            if self.position > 0:\n",
    "                print('=' * 55)\n",
    "                print(\"Open Long position, Hold\")\n",
    "                print('=' * 55)\n",
    "            elif self.position < 0:\n",
    "                print('=' * 55)\n",
    "                print(\"Open Short position, Hold\")\n",
    "                print('=' * 55)\n",
    "        \n",
    "        else:\n",
    "            print('=' * 55)\n",
    "            print(\"No position held, do nothing\")\n",
    "            print('=' * 55)\n",
    "\n",
    "    def plotgraph(self, data):\n",
    "        '''Function to plot a graph of the strategy'''\n",
    "        fig = go.FigureWidget()\n",
    "        fig.add_trace(go.Scatter(\n",
    "            x = data.date,\n",
    "            y = data['close'],\n",
    "            mode = 'lines',\n",
    "            name = 'Close Price'\n",
    "        ))\n",
    "        fig.add_trace(go.Scatter(\n",
    "            x = data.date,\n",
    "            y = data['EMA_21'],\n",
    "            mode = 'lines',\n",
    "            name = '21 Period EMA',\n",
    "            line = dict(color='blue')\n",
    "        ))\n",
    "        fig.add_trace(go.Scatter(\n",
    "            x = data.date,\n",
    "            y = data['Upper Band'],\n",
    "            mode = 'lines',\n",
    "            name = 'Upper Band',\n",
    "            line = dict(color='red')\n",
    "        ))\n",
    "        fig.add_trace(go.Scatter(\n",
    "            x = data.date,\n",
    "            y = data['Lower Band'],\n",
    "            mode = 'lines',\n",
    "            name = 'Lower Band',\n",
    "            line = dict(color='red')\n",
    "        ))\n",
    "        fig.add_trace(go.Scatter(\n",
    "            x = data.date.tolist() + data.date.tolist()[::-1],\n",
    "            y = data['Upper Band'].tolist() + data['Lower Band'].tolist()[::-1],\n",
    "            fill ='toself',\n",
    "            fillcolor = 'rgba(255,0,0,0.1)',\n",
    "            line = dict(color='rgba(255,255,255,0)'),\n",
    "            showlegend=False\n",
    "        ))\n",
    "\n",
    "        buy_times = [trade['timestamp'] for trade in self.trades if trade['type'] == 'buy']\n",
    "        buy_prices = [trade['price'] for trade in self.trades if trade['type'] == 'buy']\n",
    "        fig.add_trace(go.Scatter(\n",
    "            x=buy_times,\n",
    "            y=buy_prices,\n",
    "            mode='markers',\n",
    "            name='Buy',\n",
    "            marker=dict(color='green', size=10, symbol='triangle-up')))\n",
    "\n",
    "        sell_times = [trade['timestamp'] for trade in self.trades if trade['type'] == 'sell']\n",
    "        sell_prices = [trade['price'] for trade in self.trades if trade['type'] == 'sell']\n",
    "        fig.add_trace(go.Scatter(\n",
    "            x=sell_times,\n",
    "            y=sell_prices,\n",
    "            mode='markers',\n",
    "            name='Sell',\n",
    "            marker=dict(color='red', size=10, symbol='triangle-down')))\n",
    "\n",
    "        short_times = [trade['timestamp'] for trade in self.trades if trade['type'] == 'short']\n",
    "        short_prices = [trade['price'] for trade in self.trades if trade['type'] == 'short']\n",
    "        fig.add_trace(go.Scatter(\n",
    "            x=short_times,\n",
    "            y=short_prices,\n",
    "            mode='markers',\n",
    "            name='Short',\n",
    "            marker=dict(color='orange', size=10, symbol='triangle-down')))\n",
    "        \n",
    "        cover_times = [trade['timestamp'] for trade in self.trades if trade['type'] == 'cover']\n",
    "        cover_prices = [trade['price'] for trade in self.trades if trade['type'] == 'cover']\n",
    "        fig.add_trace(go.Scatter(\n",
    "            x=cover_times,\n",
    "            y=cover_prices,\n",
    "            mode='markers',\n",
    "            name='Cover',\n",
    "            marker=dict(color='purple', size=10, symbol='triangle-up')))\n",
    "\n",
    "\n",
    "        fig.update_layout(\n",
    "            title = 'Bollinger Bands',\n",
    "            xaxis_title = 'Index',\n",
    "            yaxis_title = 'Price',\n",
    "            legend_title = 'Legend',\n",
    "            template = 'plotly_dark'\n",
    "        )\n",
    "        return fig\n",
    "    \n",
    "    def calculate_pcreturns(self):\n",
    "        '''Calculate Percentage Returns for Strategy'''\n",
    "        final_return_percentage = (self.cumulative_return - 1)*100\n",
    "        print('=' * 55)\n",
    "        print(f\"Final Cumulative Return: {final_return_percentage:.2f}%\")\n",
    "        print('=' * 55)\n",
    "        return final_return_percentage\n",
    "    \n",
    "    def plot_cumulative_returns(self):\n",
    "        '''Plot Cumulative returns over time'''\n",
    "        fig = go.Figure()\n",
    "        fig.add_trace(go.Scatter(\n",
    "            x=self.timestamps,\n",
    "            y=self.cumulative_returns_history,\n",
    "            mode='lines+markers',\n",
    "            name='Cumulative Returns',\n",
    "            line=dict(color='blue'),\n",
    "            marker=dict(size=6)))\n",
    "        \n",
    "        fig.update_layout(\n",
    "            title='Cumulative Return Over Time',\n",
    "            xaxis_title='Time',\n",
    "            yaxis_title='Cumulative Return',\n",
    "            template='plotly_dark')\n",
    "\n",
    "        fig.show()\n",
    "\n",
    "    def onBarUpdate(self, bars, hasNewBar):\n",
    "        '''Callback for each bar update to recalculate indicators and execute trades.'''\n",
    "        self.df = util.df(bars)\n",
    "        self.technical_indicators()\n",
    "        clear_output(wait=True)\n",
    "        display(self.fig)\n",
    "        self.update_plot()\n",
    "        display(self.df.tail(2))\n",
    "        self.execute_trades()\n",
    "\n",
    "    def update_plot(self):\n",
    "        '''Update the plot with the latest data.'''\n",
    "        with self.fig.batch_update():\n",
    "            self.fig.data[0].y = self.df['close']\n",
    "            self.fig.data[1].y = self.df['EMA_21']\n",
    "            self.fig.data[2].y = self.df['Upper Band']\n",
    "            self.fig.data[3].y = self.df['Lower Band']\n",
    "            self.fig.data[0].x = self.df['date']\n",
    "            self.fig.data[1].x = self.df['date']\n",
    "            self.fig.data[2].x = self.df['date']\n",
    "            self.fig.data[3].x = self.df['date']\n",
    "            self.fig.data[4].x = self.df['date'].tolist() + self.df['date'].tolist()[::-1]\n",
    "            self.fig.data[4].y = self.df['Upper Band'].tolist() + self.df['Lower Band'].tolist()[::-1]\n",
    "\n",
    "            buy_times = [trade['timestamp'] for trade in self.trades if trade['type'] == 'buy']\n",
    "            buy_prices = [trade['price'] for trade in self.trades if trade['type'] == 'buy']\n",
    "            self.fig.data[5].x = buy_times\n",
    "            self.fig.data[5].y = buy_prices\n",
    "\n",
    "            sell_times = [trade['timestamp'] for trade in self.trades if trade['type'] == 'sell']\n",
    "            sell_prices = [trade['price'] for trade in self.trades if trade['type'] == 'sell']\n",
    "            self.fig.data[6].x = sell_times\n",
    "            self.fig.data[6].y = sell_prices\n",
    "\n",
    "            short_times = [trade['timestamp'] for trade in self.trades if trade['type'] == 'short']\n",
    "            short_prices = [trade['price'] for trade in self.trades if trade['type'] == 'short']\n",
    "            self.fig.data[7].x = short_times\n",
    "            self.fig.data[7].y = short_prices\n",
    "\n",
    "            cover_times = [trade['timestamp'] for trade in self.trades if trade['type'] == 'cover']\n",
    "            cover_prices = [trade['price'] for trade in self.trades if trade['type'] == 'cover']\n",
    "            self.fig.data[8].x = cover_times\n",
    "            self.fig.data[8].y = cover_prices\n",
    "\n",
    "            print(\"Plot data updated\") \n",
    "\n",
    "    \n",
    "    def summary(self):\n",
    "        '''Summary of trading results and cumulative returns visualised'''\n",
    "        self.calculate_pcreturns()\n",
    "        self.plot_cumulative_returns() \n",
    "            \n",
    "    def start_trading(self):\n",
    "        '''Start the trading process by subscribing the callback'''\n",
    "        self.bars.updateEvent += self.onBarUpdate\n",
    "        self.ib.sleep(120) # Value determines how long strategy is ran for.\n",
    "        self.summary()\n",
    "        self.bars.updateEvent.clear()\n",
    "        self.ib.disconnect()\n",
    "        print(\"Disconnected from IB API. Trading stopped\")\n",
    "\n",
    "# Keyboard interrupt is Ctrl + C in console\n"
   ]
  },
  {
   "cell_type": "code",
   "execution_count": 3,
   "metadata": {},
   "outputs": [
    {
     "data": {
      "application/vnd.jupyter.widget-view+json": {
       "model_id": "0883747b51f543e6b07a733f58c1fb9b",
       "version_major": 2,
       "version_minor": 0
      },
      "text/plain": [
       "FigureWidget({\n",
       "    'data': [{'mode': 'lines',\n",
       "              'name': 'Close Price',\n",
       "              'type': 'scatter',\n",
       "              'uid': 'b158d7f3-ec69-461d-83dc-a297840c4b83',\n",
       "              'x': array([datetime.datetime(2024, 10, 31, 9, 35, tzinfo=zoneinfo.ZoneInfo(key='US/Eastern')),\n",
       "                          datetime.datetime(2024, 10, 31, 9, 35, 15, tzinfo=zoneinfo.ZoneInfo(key='US/Eastern')),\n",
       "                          datetime.datetime(2024, 10, 31, 9, 35, 30, tzinfo=zoneinfo.ZoneInfo(key='US/Eastern')),\n",
       "                          ...,\n",
       "                          datetime.datetime(2024, 10, 31, 10, 47, tzinfo=zoneinfo.ZoneInfo(key='US/Eastern')),\n",
       "                          datetime.datetime(2024, 10, 31, 10, 47, 15, tzinfo=zoneinfo.ZoneInfo(key='US/Eastern')),\n",
       "                          datetime.datetime(2024, 10, 31, 10, 47, 30, tzinfo=zoneinfo.ZoneInfo(key='US/Eastern'))],\n",
       "                         dtype=object),\n",
       "              'y': array([136.24, 136.18, 136.11, ..., 133.66, 133.73, 133.65])},\n",
       "             {'line': {'color': 'blue'},\n",
       "              'mode': 'lines',\n",
       "              'name': '21 Period EMA',\n",
       "              'type': 'scatter',\n",
       "              'uid': '207e6e75-3019-4d19-b936-0564c1a3cacb',\n",
       "              'x': array([datetime.datetime(2024, 10, 31, 9, 35, tzinfo=zoneinfo.ZoneInfo(key='US/Eastern')),\n",
       "                          datetime.datetime(2024, 10, 31, 9, 35, 15, tzinfo=zoneinfo.ZoneInfo(key='US/Eastern')),\n",
       "                          datetime.datetime(2024, 10, 31, 9, 35, 30, tzinfo=zoneinfo.ZoneInfo(key='US/Eastern')),\n",
       "                          ...,\n",
       "                          datetime.datetime(2024, 10, 31, 10, 47, tzinfo=zoneinfo.ZoneInfo(key='US/Eastern')),\n",
       "                          datetime.datetime(2024, 10, 31, 10, 47, 15, tzinfo=zoneinfo.ZoneInfo(key='US/Eastern')),\n",
       "                          datetime.datetime(2024, 10, 31, 10, 47, 30, tzinfo=zoneinfo.ZoneInfo(key='US/Eastern'))],\n",
       "                         dtype=object),\n",
       "              'y': array([136.33684724, 136.3225884 , 136.30326218, ..., 133.74689038,\n",
       "                          133.74535489, 133.73668626])},\n",
       "             {'line': {'color': 'red'},\n",
       "              'mode': 'lines',\n",
       "              'name': 'Upper Band',\n",
       "              'type': 'scatter',\n",
       "              'uid': 'af556981-10b1-4df1-a51c-1e1b1e15f9f4',\n",
       "              'x': array([datetime.datetime(2024, 10, 31, 9, 35, tzinfo=zoneinfo.ZoneInfo(key='US/Eastern')),\n",
       "                          datetime.datetime(2024, 10, 31, 9, 35, 15, tzinfo=zoneinfo.ZoneInfo(key='US/Eastern')),\n",
       "                          datetime.datetime(2024, 10, 31, 9, 35, 30, tzinfo=zoneinfo.ZoneInfo(key='US/Eastern')),\n",
       "                          ...,\n",
       "                          datetime.datetime(2024, 10, 31, 10, 47, tzinfo=zoneinfo.ZoneInfo(key='US/Eastern')),\n",
       "                          datetime.datetime(2024, 10, 31, 10, 47, 15, tzinfo=zoneinfo.ZoneInfo(key='US/Eastern')),\n",
       "                          datetime.datetime(2024, 10, 31, 10, 47, 30, tzinfo=zoneinfo.ZoneInfo(key='US/Eastern'))],\n",
       "                         dtype=object),\n",
       "              'y': array([136.86458274, 136.77131888, 136.67212724, ..., 133.89623338,\n",
       "                          133.87847674, 133.85472379])},\n",
       "             {'line': {'color': 'red'},\n",
       "              'mode': 'lines',\n",
       "              'name': 'Lower Band',\n",
       "              'type': 'scatter',\n",
       "              'uid': '882a6978-fbcd-4f05-908e-7dce399e3f51',\n",
       "              'x': array([datetime.datetime(2024, 10, 31, 9, 35, tzinfo=zoneinfo.ZoneInfo(key='US/Eastern')),\n",
       "                          datetime.datetime(2024, 10, 31, 9, 35, 15, tzinfo=zoneinfo.ZoneInfo(key='US/Eastern')),\n",
       "                          datetime.datetime(2024, 10, 31, 9, 35, 30, tzinfo=zoneinfo.ZoneInfo(key='US/Eastern')),\n",
       "                          ...,\n",
       "                          datetime.datetime(2024, 10, 31, 10, 47, tzinfo=zoneinfo.ZoneInfo(key='US/Eastern')),\n",
       "                          datetime.datetime(2024, 10, 31, 10, 47, 15, tzinfo=zoneinfo.ZoneInfo(key='US/Eastern')),\n",
       "                          datetime.datetime(2024, 10, 31, 10, 47, 30, tzinfo=zoneinfo.ZoneInfo(key='US/Eastern'))],\n",
       "                         dtype=object),\n",
       "              'y': array([135.80911174, 135.87385792, 135.93439713, ..., 133.59754737,\n",
       "                          133.61223303, 133.61864874])},\n",
       "             {'fill': 'toself',\n",
       "              'fillcolor': 'rgba(255,0,0,0.1)',\n",
       "              'line': {'color': 'rgba(255,255,255,0)'},\n",
       "              'showlegend': False,\n",
       "              'type': 'scatter',\n",
       "              'uid': 'a9963377-ab11-483a-9814-91d6d77739a6',\n",
       "              'x': [2024-10-31 09:35:00-04:00, 2024-10-31 09:35:15-04:00,\n",
       "                    2024-10-31 09:35:30-04:00, ..., 2024-10-31 09:35:30-04:00,\n",
       "                    2024-10-31 09:35:15-04:00, 2024-10-31 09:35:00-04:00],\n",
       "              'y': [136.86458274314464, 136.77131888384923, 136.6721272360184,\n",
       "                    ..., 135.9343971266385, 135.87385791507336, 135.80911173567023]},\n",
       "             {'marker': {'color': 'green', 'size': 10, 'symbol': 'triangle-up'},\n",
       "              'mode': 'markers',\n",
       "              'name': 'Buy',\n",
       "              'type': 'scatter',\n",
       "              'uid': '412fffb5-7e8b-4310-a86f-7da48b8f6b04',\n",
       "              'x': [2024-10-31 10:47:00-04:00],\n",
       "              'y': [0.0]},\n",
       "             {'marker': {'color': 'red', 'size': 10, 'symbol': 'triangle-down'},\n",
       "              'mode': 'markers',\n",
       "              'name': 'Sell',\n",
       "              'type': 'scatter',\n",
       "              'uid': 'aab83170-72be-467d-a2a9-da21e11ffc9b',\n",
       "              'x': [],\n",
       "              'y': []},\n",
       "             {'marker': {'color': 'orange', 'size': 10, 'symbol': 'triangle-down'},\n",
       "              'mode': 'markers',\n",
       "              'name': 'Short',\n",
       "              'type': 'scatter',\n",
       "              'uid': '883903b5-a9fd-4e44-afa5-fb496d9f857e',\n",
       "              'x': [],\n",
       "              'y': []},\n",
       "             {'marker': {'color': 'purple', 'size': 10, 'symbol': 'triangle-up'},\n",
       "              'mode': 'markers',\n",
       "              'name': 'Cover',\n",
       "              'type': 'scatter',\n",
       "              'uid': 'ef95620d-9b5d-4b36-aadf-9b3a1676c5ff',\n",
       "              'x': [],\n",
       "              'y': []}],\n",
       "    'layout': {'legend': {'title': {'text': 'Legend'}},\n",
       "               'template': '...',\n",
       "               'title': {'text': 'Bollinger Bands'},\n",
       "               'xaxis': {'title': {'text': 'Index'}},\n",
       "               'yaxis': {'title': {'text': 'Price'}}}\n",
       "})"
      ]
     },
     "metadata": {},
     "output_type": "display_data"
    },
    {
     "name": "stdout",
     "output_type": "stream",
     "text": [
      "Plot data updated\n"
     ]
    },
    {
     "data": {
      "text/html": [
       "<div>\n",
       "<style scoped>\n",
       "    .dataframe tbody tr th:only-of-type {\n",
       "        vertical-align: middle;\n",
       "    }\n",
       "\n",
       "    .dataframe tbody tr th {\n",
       "        vertical-align: top;\n",
       "    }\n",
       "\n",
       "    .dataframe thead th {\n",
       "        text-align: right;\n",
       "    }\n",
       "</style>\n",
       "<table border=\"1\" class=\"dataframe\">\n",
       "  <thead>\n",
       "    <tr style=\"text-align: right;\">\n",
       "      <th></th>\n",
       "      <th>date</th>\n",
       "      <th>open</th>\n",
       "      <th>high</th>\n",
       "      <th>low</th>\n",
       "      <th>close</th>\n",
       "      <th>volume</th>\n",
       "      <th>average</th>\n",
       "      <th>barCount</th>\n",
       "      <th>EMA_21</th>\n",
       "      <th>SD</th>\n",
       "      <th>Upper Band</th>\n",
       "      <th>Lower Band</th>\n",
       "    </tr>\n",
       "  </thead>\n",
       "  <tbody>\n",
       "    <tr>\n",
       "      <th>310</th>\n",
       "      <td>2024-10-31 10:47:30-04:00</td>\n",
       "      <td>133.72</td>\n",
       "      <td>133.73</td>\n",
       "      <td>133.64</td>\n",
       "      <td>133.65</td>\n",
       "      <td>58157.0</td>\n",
       "      <td>133.678358</td>\n",
       "      <td>229</td>\n",
       "      <td>133.736686</td>\n",
       "      <td>0.118038</td>\n",
       "      <td>133.854724</td>\n",
       "      <td>133.618649</td>\n",
       "    </tr>\n",
       "    <tr>\n",
       "      <th>311</th>\n",
       "      <td>2024-10-31 10:47:45-04:00</td>\n",
       "      <td>133.67</td>\n",
       "      <td>133.67</td>\n",
       "      <td>133.57</td>\n",
       "      <td>133.58</td>\n",
       "      <td>48571.0</td>\n",
       "      <td>133.622969</td>\n",
       "      <td>191</td>\n",
       "      <td>133.722442</td>\n",
       "      <td>0.093628</td>\n",
       "      <td>133.816070</td>\n",
       "      <td>133.628814</td>\n",
       "    </tr>\n",
       "  </tbody>\n",
       "</table>\n",
       "</div>"
      ],
      "text/plain": [
       "                         date    open    high     low   close   volume  \\\n",
       "310 2024-10-31 10:47:30-04:00  133.72  133.73  133.64  133.65  58157.0   \n",
       "311 2024-10-31 10:47:45-04:00  133.67  133.67  133.57  133.58  48571.0   \n",
       "\n",
       "        average  barCount      EMA_21        SD  Upper Band  Lower Band  \n",
       "310  133.678358       229  133.736686  0.118038  133.854724  133.618649  \n",
       "311  133.622969       191  133.722442  0.093628  133.816070  133.628814  "
      ]
     },
     "metadata": {},
     "output_type": "display_data"
    },
    {
     "name": "stdout",
     "output_type": "stream",
     "text": [
      "=======================================================\n",
      "Open Long position, Hold\n",
      "=======================================================\n",
      "=======================================================\n",
      "Final Cumulative Return: 0.00%\n",
      "=======================================================\n"
     ]
    },
    {
     "data": {
      "application/vnd.plotly.v1+json": {
       "config": {
        "plotlyServerURL": "https://plot.ly"
       },
       "data": [
        {
         "line": {
          "color": "blue"
         },
         "marker": {
          "size": 6
         },
         "mode": "lines+markers",
         "name": "Cumulative Returns",
         "type": "scatter",
         "x": [],
         "y": []
        }
       ],
       "layout": {
        "template": {
         "data": {
          "bar": [
           {
            "error_x": {
             "color": "#f2f5fa"
            },
            "error_y": {
             "color": "#f2f5fa"
            },
            "marker": {
             "line": {
              "color": "rgb(17,17,17)",
              "width": 0.5
             },
             "pattern": {
              "fillmode": "overlay",
              "size": 10,
              "solidity": 0.2
             }
            },
            "type": "bar"
           }
          ],
          "barpolar": [
           {
            "marker": {
             "line": {
              "color": "rgb(17,17,17)",
              "width": 0.5
             },
             "pattern": {
              "fillmode": "overlay",
              "size": 10,
              "solidity": 0.2
             }
            },
            "type": "barpolar"
           }
          ],
          "carpet": [
           {
            "aaxis": {
             "endlinecolor": "#A2B1C6",
             "gridcolor": "#506784",
             "linecolor": "#506784",
             "minorgridcolor": "#506784",
             "startlinecolor": "#A2B1C6"
            },
            "baxis": {
             "endlinecolor": "#A2B1C6",
             "gridcolor": "#506784",
             "linecolor": "#506784",
             "minorgridcolor": "#506784",
             "startlinecolor": "#A2B1C6"
            },
            "type": "carpet"
           }
          ],
          "choropleth": [
           {
            "colorbar": {
             "outlinewidth": 0,
             "ticks": ""
            },
            "type": "choropleth"
           }
          ],
          "contour": [
           {
            "colorbar": {
             "outlinewidth": 0,
             "ticks": ""
            },
            "colorscale": [
             [
              0,
              "#0d0887"
             ],
             [
              0.1111111111111111,
              "#46039f"
             ],
             [
              0.2222222222222222,
              "#7201a8"
             ],
             [
              0.3333333333333333,
              "#9c179e"
             ],
             [
              0.4444444444444444,
              "#bd3786"
             ],
             [
              0.5555555555555556,
              "#d8576b"
             ],
             [
              0.6666666666666666,
              "#ed7953"
             ],
             [
              0.7777777777777778,
              "#fb9f3a"
             ],
             [
              0.8888888888888888,
              "#fdca26"
             ],
             [
              1,
              "#f0f921"
             ]
            ],
            "type": "contour"
           }
          ],
          "contourcarpet": [
           {
            "colorbar": {
             "outlinewidth": 0,
             "ticks": ""
            },
            "type": "contourcarpet"
           }
          ],
          "heatmap": [
           {
            "colorbar": {
             "outlinewidth": 0,
             "ticks": ""
            },
            "colorscale": [
             [
              0,
              "#0d0887"
             ],
             [
              0.1111111111111111,
              "#46039f"
             ],
             [
              0.2222222222222222,
              "#7201a8"
             ],
             [
              0.3333333333333333,
              "#9c179e"
             ],
             [
              0.4444444444444444,
              "#bd3786"
             ],
             [
              0.5555555555555556,
              "#d8576b"
             ],
             [
              0.6666666666666666,
              "#ed7953"
             ],
             [
              0.7777777777777778,
              "#fb9f3a"
             ],
             [
              0.8888888888888888,
              "#fdca26"
             ],
             [
              1,
              "#f0f921"
             ]
            ],
            "type": "heatmap"
           }
          ],
          "heatmapgl": [
           {
            "colorbar": {
             "outlinewidth": 0,
             "ticks": ""
            },
            "colorscale": [
             [
              0,
              "#0d0887"
             ],
             [
              0.1111111111111111,
              "#46039f"
             ],
             [
              0.2222222222222222,
              "#7201a8"
             ],
             [
              0.3333333333333333,
              "#9c179e"
             ],
             [
              0.4444444444444444,
              "#bd3786"
             ],
             [
              0.5555555555555556,
              "#d8576b"
             ],
             [
              0.6666666666666666,
              "#ed7953"
             ],
             [
              0.7777777777777778,
              "#fb9f3a"
             ],
             [
              0.8888888888888888,
              "#fdca26"
             ],
             [
              1,
              "#f0f921"
             ]
            ],
            "type": "heatmapgl"
           }
          ],
          "histogram": [
           {
            "marker": {
             "pattern": {
              "fillmode": "overlay",
              "size": 10,
              "solidity": 0.2
             }
            },
            "type": "histogram"
           }
          ],
          "histogram2d": [
           {
            "colorbar": {
             "outlinewidth": 0,
             "ticks": ""
            },
            "colorscale": [
             [
              0,
              "#0d0887"
             ],
             [
              0.1111111111111111,
              "#46039f"
             ],
             [
              0.2222222222222222,
              "#7201a8"
             ],
             [
              0.3333333333333333,
              "#9c179e"
             ],
             [
              0.4444444444444444,
              "#bd3786"
             ],
             [
              0.5555555555555556,
              "#d8576b"
             ],
             [
              0.6666666666666666,
              "#ed7953"
             ],
             [
              0.7777777777777778,
              "#fb9f3a"
             ],
             [
              0.8888888888888888,
              "#fdca26"
             ],
             [
              1,
              "#f0f921"
             ]
            ],
            "type": "histogram2d"
           }
          ],
          "histogram2dcontour": [
           {
            "colorbar": {
             "outlinewidth": 0,
             "ticks": ""
            },
            "colorscale": [
             [
              0,
              "#0d0887"
             ],
             [
              0.1111111111111111,
              "#46039f"
             ],
             [
              0.2222222222222222,
              "#7201a8"
             ],
             [
              0.3333333333333333,
              "#9c179e"
             ],
             [
              0.4444444444444444,
              "#bd3786"
             ],
             [
              0.5555555555555556,
              "#d8576b"
             ],
             [
              0.6666666666666666,
              "#ed7953"
             ],
             [
              0.7777777777777778,
              "#fb9f3a"
             ],
             [
              0.8888888888888888,
              "#fdca26"
             ],
             [
              1,
              "#f0f921"
             ]
            ],
            "type": "histogram2dcontour"
           }
          ],
          "mesh3d": [
           {
            "colorbar": {
             "outlinewidth": 0,
             "ticks": ""
            },
            "type": "mesh3d"
           }
          ],
          "parcoords": [
           {
            "line": {
             "colorbar": {
              "outlinewidth": 0,
              "ticks": ""
             }
            },
            "type": "parcoords"
           }
          ],
          "pie": [
           {
            "automargin": true,
            "type": "pie"
           }
          ],
          "scatter": [
           {
            "marker": {
             "line": {
              "color": "#283442"
             }
            },
            "type": "scatter"
           }
          ],
          "scatter3d": [
           {
            "line": {
             "colorbar": {
              "outlinewidth": 0,
              "ticks": ""
             }
            },
            "marker": {
             "colorbar": {
              "outlinewidth": 0,
              "ticks": ""
             }
            },
            "type": "scatter3d"
           }
          ],
          "scattercarpet": [
           {
            "marker": {
             "colorbar": {
              "outlinewidth": 0,
              "ticks": ""
             }
            },
            "type": "scattercarpet"
           }
          ],
          "scattergeo": [
           {
            "marker": {
             "colorbar": {
              "outlinewidth": 0,
              "ticks": ""
             }
            },
            "type": "scattergeo"
           }
          ],
          "scattergl": [
           {
            "marker": {
             "line": {
              "color": "#283442"
             }
            },
            "type": "scattergl"
           }
          ],
          "scattermapbox": [
           {
            "marker": {
             "colorbar": {
              "outlinewidth": 0,
              "ticks": ""
             }
            },
            "type": "scattermapbox"
           }
          ],
          "scatterpolar": [
           {
            "marker": {
             "colorbar": {
              "outlinewidth": 0,
              "ticks": ""
             }
            },
            "type": "scatterpolar"
           }
          ],
          "scatterpolargl": [
           {
            "marker": {
             "colorbar": {
              "outlinewidth": 0,
              "ticks": ""
             }
            },
            "type": "scatterpolargl"
           }
          ],
          "scatterternary": [
           {
            "marker": {
             "colorbar": {
              "outlinewidth": 0,
              "ticks": ""
             }
            },
            "type": "scatterternary"
           }
          ],
          "surface": [
           {
            "colorbar": {
             "outlinewidth": 0,
             "ticks": ""
            },
            "colorscale": [
             [
              0,
              "#0d0887"
             ],
             [
              0.1111111111111111,
              "#46039f"
             ],
             [
              0.2222222222222222,
              "#7201a8"
             ],
             [
              0.3333333333333333,
              "#9c179e"
             ],
             [
              0.4444444444444444,
              "#bd3786"
             ],
             [
              0.5555555555555556,
              "#d8576b"
             ],
             [
              0.6666666666666666,
              "#ed7953"
             ],
             [
              0.7777777777777778,
              "#fb9f3a"
             ],
             [
              0.8888888888888888,
              "#fdca26"
             ],
             [
              1,
              "#f0f921"
             ]
            ],
            "type": "surface"
           }
          ],
          "table": [
           {
            "cells": {
             "fill": {
              "color": "#506784"
             },
             "line": {
              "color": "rgb(17,17,17)"
             }
            },
            "header": {
             "fill": {
              "color": "#2a3f5f"
             },
             "line": {
              "color": "rgb(17,17,17)"
             }
            },
            "type": "table"
           }
          ]
         },
         "layout": {
          "annotationdefaults": {
           "arrowcolor": "#f2f5fa",
           "arrowhead": 0,
           "arrowwidth": 1
          },
          "autotypenumbers": "strict",
          "coloraxis": {
           "colorbar": {
            "outlinewidth": 0,
            "ticks": ""
           }
          },
          "colorscale": {
           "diverging": [
            [
             0,
             "#8e0152"
            ],
            [
             0.1,
             "#c51b7d"
            ],
            [
             0.2,
             "#de77ae"
            ],
            [
             0.3,
             "#f1b6da"
            ],
            [
             0.4,
             "#fde0ef"
            ],
            [
             0.5,
             "#f7f7f7"
            ],
            [
             0.6,
             "#e6f5d0"
            ],
            [
             0.7,
             "#b8e186"
            ],
            [
             0.8,
             "#7fbc41"
            ],
            [
             0.9,
             "#4d9221"
            ],
            [
             1,
             "#276419"
            ]
           ],
           "sequential": [
            [
             0,
             "#0d0887"
            ],
            [
             0.1111111111111111,
             "#46039f"
            ],
            [
             0.2222222222222222,
             "#7201a8"
            ],
            [
             0.3333333333333333,
             "#9c179e"
            ],
            [
             0.4444444444444444,
             "#bd3786"
            ],
            [
             0.5555555555555556,
             "#d8576b"
            ],
            [
             0.6666666666666666,
             "#ed7953"
            ],
            [
             0.7777777777777778,
             "#fb9f3a"
            ],
            [
             0.8888888888888888,
             "#fdca26"
            ],
            [
             1,
             "#f0f921"
            ]
           ],
           "sequentialminus": [
            [
             0,
             "#0d0887"
            ],
            [
             0.1111111111111111,
             "#46039f"
            ],
            [
             0.2222222222222222,
             "#7201a8"
            ],
            [
             0.3333333333333333,
             "#9c179e"
            ],
            [
             0.4444444444444444,
             "#bd3786"
            ],
            [
             0.5555555555555556,
             "#d8576b"
            ],
            [
             0.6666666666666666,
             "#ed7953"
            ],
            [
             0.7777777777777778,
             "#fb9f3a"
            ],
            [
             0.8888888888888888,
             "#fdca26"
            ],
            [
             1,
             "#f0f921"
            ]
           ]
          },
          "colorway": [
           "#636efa",
           "#EF553B",
           "#00cc96",
           "#ab63fa",
           "#FFA15A",
           "#19d3f3",
           "#FF6692",
           "#B6E880",
           "#FF97FF",
           "#FECB52"
          ],
          "font": {
           "color": "#f2f5fa"
          },
          "geo": {
           "bgcolor": "rgb(17,17,17)",
           "lakecolor": "rgb(17,17,17)",
           "landcolor": "rgb(17,17,17)",
           "showlakes": true,
           "showland": true,
           "subunitcolor": "#506784"
          },
          "hoverlabel": {
           "align": "left"
          },
          "hovermode": "closest",
          "mapbox": {
           "style": "dark"
          },
          "paper_bgcolor": "rgb(17,17,17)",
          "plot_bgcolor": "rgb(17,17,17)",
          "polar": {
           "angularaxis": {
            "gridcolor": "#506784",
            "linecolor": "#506784",
            "ticks": ""
           },
           "bgcolor": "rgb(17,17,17)",
           "radialaxis": {
            "gridcolor": "#506784",
            "linecolor": "#506784",
            "ticks": ""
           }
          },
          "scene": {
           "xaxis": {
            "backgroundcolor": "rgb(17,17,17)",
            "gridcolor": "#506784",
            "gridwidth": 2,
            "linecolor": "#506784",
            "showbackground": true,
            "ticks": "",
            "zerolinecolor": "#C8D4E3"
           },
           "yaxis": {
            "backgroundcolor": "rgb(17,17,17)",
            "gridcolor": "#506784",
            "gridwidth": 2,
            "linecolor": "#506784",
            "showbackground": true,
            "ticks": "",
            "zerolinecolor": "#C8D4E3"
           },
           "zaxis": {
            "backgroundcolor": "rgb(17,17,17)",
            "gridcolor": "#506784",
            "gridwidth": 2,
            "linecolor": "#506784",
            "showbackground": true,
            "ticks": "",
            "zerolinecolor": "#C8D4E3"
           }
          },
          "shapedefaults": {
           "line": {
            "color": "#f2f5fa"
           }
          },
          "sliderdefaults": {
           "bgcolor": "#C8D4E3",
           "bordercolor": "rgb(17,17,17)",
           "borderwidth": 1,
           "tickwidth": 0
          },
          "ternary": {
           "aaxis": {
            "gridcolor": "#506784",
            "linecolor": "#506784",
            "ticks": ""
           },
           "baxis": {
            "gridcolor": "#506784",
            "linecolor": "#506784",
            "ticks": ""
           },
           "bgcolor": "rgb(17,17,17)",
           "caxis": {
            "gridcolor": "#506784",
            "linecolor": "#506784",
            "ticks": ""
           }
          },
          "title": {
           "x": 0.05
          },
          "updatemenudefaults": {
           "bgcolor": "#506784",
           "borderwidth": 0
          },
          "xaxis": {
           "automargin": true,
           "gridcolor": "#283442",
           "linecolor": "#506784",
           "ticks": "",
           "title": {
            "standoff": 15
           },
           "zerolinecolor": "#283442",
           "zerolinewidth": 2
          },
          "yaxis": {
           "automargin": true,
           "gridcolor": "#283442",
           "linecolor": "#506784",
           "ticks": "",
           "title": {
            "standoff": 15
           },
           "zerolinecolor": "#283442",
           "zerolinewidth": 2
          }
         }
        },
        "title": {
         "text": "Cumulative Return Over Time"
        },
        "xaxis": {
         "title": {
          "text": "Time"
         }
        },
        "yaxis": {
         "title": {
          "text": "Cumulative Return"
         }
        }
       }
      }
     },
     "metadata": {},
     "output_type": "display_data"
    },
    {
     "name": "stdout",
     "output_type": "stream",
     "text": [
      "Disconnected from IB API. Trading stopped\n"
     ]
    }
   ],
   "source": [
    "trading_bot = BollingerBands(symbol = 'NVDA', qty = 20, channel_width=1)"
   ]
  },
  {
   "cell_type": "markdown",
   "metadata": {},
   "source": [
    "Status\n",
    "1) Need to organise output while live - Done\n",
    "2) Need to compute session returns - Done\n",
    "3) Need to plot Equity - Done\n",
    "\n",
    "This code is not meant to be a profitable trading algorithm it serves as an introduction for my own learning.\n",
    "N.B the profits of the strategy while day trading on a low interval are diminished due to fixed costs of trading. This can be solved through either trading a stock which has a higher stock price, or by trading on a higher timeframe.\n",
    "\n",
    "One other consideration is for simplicity of code as multiple methods are complex and difficult to read.\n",
    "\n",
    "Stop loss needs to be added"
   ]
  }
 ],
 "metadata": {
  "kernelspec": {
   "display_name": "Python 3",
   "language": "python",
   "name": "python3"
  },
  "language_info": {
   "codemirror_mode": {
    "name": "ipython",
    "version": 3
   },
   "file_extension": ".py",
   "mimetype": "text/x-python",
   "name": "python",
   "nbconvert_exporter": "python",
   "pygments_lexer": "ipython3",
   "version": "3.12.4"
  }
 },
 "nbformat": 4,
 "nbformat_minor": 2
}
