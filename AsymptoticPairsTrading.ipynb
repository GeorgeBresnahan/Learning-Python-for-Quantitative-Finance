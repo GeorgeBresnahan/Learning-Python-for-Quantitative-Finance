{
 "cells": [
  {
   "cell_type": "markdown",
   "metadata": {},
   "source": [
    "Upon reviewing recent academic literature of Pairs Trading, I found a paper by (Ti et al., 2024), the authors have called attention to a systematic flaw of the general back testing process in the literature. The seminal papers of Vidyamurthy (2004), Huck and Afawubo(2015), Rad et al (2016), use the sample mean and standard deviations of the formation to calculate opening thresholds. In this code I have used this in my calculation of the z-score for the trading period, which determines trade signals, however the authors have found a large proportion of spread processes fail to converge to sample means, eroding profit. The authors discover that rather, the spread process oscillates around the 'Asymptotic Mean'.  Their results suggest that determining thresholds with this asymptotic value outperforms the adoption of sample means and standard deviations.\n",
    "\n",
    "I will attempt to implement this into my strategy.\n",
    "\n",
    "Upon reading the Paper and reading the paper where the authors got the idea to use the asymptotic mean Hansen(2000), I will revisit this after my Intermediate Linear Algebra course at Oxford, which will hopefully enable me to fully understand the mathematics behind this modification, rather than naively implementing the modication at this moment.\n",
    "\n",
    "Hansen, P.R. (2000). The Johansen-Granger Representation Theorem: An Explicit Expression for I(1) Processes. [online] Escholarship.org. Available at: https://escholarship.org/uc/item/832256dg [Accessed 7 Dec. 2024].\n",
    "\n",
    "‌Ti, Y.-W., Dai, T.-S., Wang, K.-L., Chang, H.-H. and Sun, Y.-J. (2024). Improving Cointegration-Based Pairs Trading Strategy with Asymptotic Analyses and Convergence Rate Filters. Computational Economics. doi:https://doi.org/10.1007/s10614-023-10539-4."
   ]
  },
  {
   "cell_type": "markdown",
   "metadata": {},
   "source": [
    "The authors derive the asymptotic mean to be expressed as:\n",
    "\n",
    "![](<Screenshot 2024-12-18 163724.png>)\n",
    "\n",
    "I show how:"
   ]
  },
  {
   "cell_type": "markdown",
   "metadata": {},
   "source": [
    "![alt text](20241219_123933042_iOS-1.jpg)"
   ]
  },
  {
   "cell_type": "markdown",
   "metadata": {},
   "source": [
    "![alt text](20241219_123947765_iOS.jpg)"
   ]
  },
  {
   "cell_type": "markdown",
   "metadata": {},
   "source": [
    "![alt text](20241219_123954578_iOS-1.jpg)"
   ]
  },
  {
   "cell_type": "markdown",
   "metadata": {},
   "source": [
    "![alt text](<20241219_124000660_iOS (1).jpg>)"
   ]
  },
  {
   "cell_type": "markdown",
   "metadata": {},
   "source": [
    "![alt text](20241219_124031504_iOS.jpg)"
   ]
  },
  {
   "cell_type": "markdown",
   "metadata": {},
   "source": [
    "![alt text](20241219_124038567_iOS.jpg)"
   ]
  },
  {
   "cell_type": "markdown",
   "metadata": {},
   "source": [
    "![alt text](20241219_124045207_iOS-1.jpg)"
   ]
  },
  {
   "cell_type": "markdown",
   "metadata": {},
   "source": [
    "![alt text](20241219_124054432_iOS-1.jpg)"
   ]
  },
  {
   "cell_type": "markdown",
   "metadata": {},
   "source": [
    "![alt text](20241219_124059822_iOS-1.jpg)"
   ]
  },
  {
   "cell_type": "markdown",
   "metadata": {},
   "source": [
    "![alt text](20241219_124105950_iOS.jpg)"
   ]
  },
  {
   "cell_type": "markdown",
   "metadata": {},
   "source": [
    "Now that I have derived this i will try to implement this into a New Pairs Trading code, to see if it improves returns."
   ]
  },
  {
   "cell_type": "markdown",
   "metadata": {},
   "source": []
  }
 ],
 "metadata": {
  "language_info": {
   "name": "python"
  }
 },
 "nbformat": 4,
 "nbformat_minor": 2
}
